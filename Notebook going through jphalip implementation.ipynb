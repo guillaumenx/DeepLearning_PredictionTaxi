{
 "cells": [
  {
   "cell_type": "code",
   "execution_count": 1,
   "metadata": {},
   "outputs": [
    {
     "name": "stderr",
     "output_type": "stream",
     "text": [
      "C:\\Users\\Mohamed\\Anaconda3\\lib\\site-packages\\h5py\\__init__.py:34: FutureWarning: Conversion of the second argument of issubdtype from `float` to `np.floating` is deprecated. In future, it will be treated as `np.float64 == np.dtype(float).type`.\n",
      "  from ._conv import register_converters as _register_converters\n",
      "Using TensorFlow backend.\n"
     ]
    }
   ],
   "source": [
    "import pickle\n",
    "import csv\n",
    "import calendar \n",
    "import pandas as pd\n",
    "import numpy as np\n",
    "import seaborn as sns #Pour les graphiques\n",
    "import matplotlib\n",
    "import matplotlib.pyplot as plt\n",
    "from matplotlib.ticker import  MultipleLocator, FormatStrFormatter\n",
    "from scipy.interpolate import spline\n",
    "from IPython.core.display import display_html\n",
    "from keras.models import load_model\n",
    "import os \n",
    "os.chdir('code')\n",
    "from utils import np_haversine, density_map, get_clusters, plot_embeddings\n",
    "from data import load_data\n",
    "from training import start_new_session, process_features, create_model\n",
    "#ATTENTION : PROBLMÈME À GERER : METHODE MERGE DE KERAS\n",
    "#la question se posera au moment de faire le modèle\n",
    "os.chdir('..')\n",
    "#inline display of plots :\n",
    "%matplotlib inline\n",
    "\n",
    "#random seed for reprodutibility \n",
    "np.random.seed(42)"
   ]
  },
  {
   "cell_type": "code",
   "execution_count": null,
   "metadata": {},
   "outputs": [],
   "source": [
    "data = load_data()"
   ]
  },
  {
   "cell_type": "code",
   "execution_count": null,
   "metadata": {
    "collapsed": true
   },
   "outputs": [],
   "source": []
  }
 ],
 "metadata": {
  "kernelspec": {
   "display_name": "Python 3",
   "language": "python",
   "name": "python3"
  },
  "language_info": {
   "codemirror_mode": {
    "name": "ipython",
    "version": 3
   },
   "file_extension": ".py",
   "mimetype": "text/x-python",
   "name": "python",
   "nbconvert_exporter": "python",
   "pygments_lexer": "ipython3",
   "version": "3.6.2"
  }
 },
 "nbformat": 4,
 "nbformat_minor": 2
}
